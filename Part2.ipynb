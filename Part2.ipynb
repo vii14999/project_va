{
 "cells": [
  {
   "cell_type": "code",
   "execution_count": 2,
   "id": "32a3720e",
   "metadata": {},
   "outputs": [],
   "source": [
    "import pandas as pd\n",
    "from matplotlib import pyplot as plt"
   ]
  },
  {
   "cell_type": "code",
   "execution_count": 3,
   "id": "0f3aa449",
   "metadata": {},
   "outputs": [],
   "source": [
    "df = pd.read_csv('mkt_data.csv')"
   ]
  },
  {
   "cell_type": "code",
   "execution_count": 4,
   "id": "af7c073a",
   "metadata": {},
   "outputs": [
    {
     "data": {
      "text/html": [
       "<div>\n",
       "<style scoped>\n",
       "    .dataframe tbody tr th:only-of-type {\n",
       "        vertical-align: middle;\n",
       "    }\n",
       "\n",
       "    .dataframe tbody tr th {\n",
       "        vertical-align: top;\n",
       "    }\n",
       "\n",
       "    .dataframe thead th {\n",
       "        text-align: right;\n",
       "    }\n",
       "</style>\n",
       "<table border=\"1\" class=\"dataframe\">\n",
       "  <thead>\n",
       "    <tr style=\"text-align: right;\">\n",
       "      <th></th>\n",
       "      <th>id</th>\n",
       "      <th>send_date</th>\n",
       "      <th>estimated_age</th>\n",
       "      <th>age_range</th>\n",
       "      <th>channel</th>\n",
       "      <th>coupon</th>\n",
       "      <th>clicked</th>\n",
       "      <th>last_step</th>\n",
       "      <th>nb_units</th>\n",
       "      <th>order_value</th>\n",
       "    </tr>\n",
       "  </thead>\n",
       "  <tbody>\n",
       "    <tr>\n",
       "      <th>0</th>\n",
       "      <td>1</td>\n",
       "      <td>2019-04-12</td>\n",
       "      <td>59</td>\n",
       "      <td>46-60</td>\n",
       "      <td>SMS</td>\n",
       "      <td>2</td>\n",
       "      <td>0</td>\n",
       "      <td>received</td>\n",
       "      <td>0</td>\n",
       "      <td>0</td>\n",
       "    </tr>\n",
       "    <tr>\n",
       "      <th>1</th>\n",
       "      <td>2</td>\n",
       "      <td>2019-04-08</td>\n",
       "      <td>27</td>\n",
       "      <td>18-30</td>\n",
       "      <td>Email</td>\n",
       "      <td>2</td>\n",
       "      <td>0</td>\n",
       "      <td>received</td>\n",
       "      <td>0</td>\n",
       "      <td>0</td>\n",
       "    </tr>\n",
       "    <tr>\n",
       "      <th>2</th>\n",
       "      <td>3</td>\n",
       "      <td>2019-04-05</td>\n",
       "      <td>74</td>\n",
       "      <td>60+</td>\n",
       "      <td>Email</td>\n",
       "      <td>2</td>\n",
       "      <td>0</td>\n",
       "      <td>received</td>\n",
       "      <td>0</td>\n",
       "      <td>0</td>\n",
       "    </tr>\n",
       "    <tr>\n",
       "      <th>3</th>\n",
       "      <td>4</td>\n",
       "      <td>2019-04-21</td>\n",
       "      <td>32</td>\n",
       "      <td>31-45</td>\n",
       "      <td>SMS</td>\n",
       "      <td>2</td>\n",
       "      <td>0</td>\n",
       "      <td>received</td>\n",
       "      <td>0</td>\n",
       "      <td>0</td>\n",
       "    </tr>\n",
       "    <tr>\n",
       "      <th>4</th>\n",
       "      <td>5</td>\n",
       "      <td>2019-04-28</td>\n",
       "      <td>42</td>\n",
       "      <td>31-45</td>\n",
       "      <td>Email</td>\n",
       "      <td>2</td>\n",
       "      <td>0</td>\n",
       "      <td>received</td>\n",
       "      <td>0</td>\n",
       "      <td>0</td>\n",
       "    </tr>\n",
       "    <tr>\n",
       "      <th>...</th>\n",
       "      <td>...</td>\n",
       "      <td>...</td>\n",
       "      <td>...</td>\n",
       "      <td>...</td>\n",
       "      <td>...</td>\n",
       "      <td>...</td>\n",
       "      <td>...</td>\n",
       "      <td>...</td>\n",
       "      <td>...</td>\n",
       "      <td>...</td>\n",
       "    </tr>\n",
       "    <tr>\n",
       "      <th>299995</th>\n",
       "      <td>299996</td>\n",
       "      <td>2019-04-26</td>\n",
       "      <td>23</td>\n",
       "      <td>18-30</td>\n",
       "      <td>Email</td>\n",
       "      <td>2</td>\n",
       "      <td>0</td>\n",
       "      <td>received</td>\n",
       "      <td>0</td>\n",
       "      <td>0</td>\n",
       "    </tr>\n",
       "    <tr>\n",
       "      <th>299996</th>\n",
       "      <td>299997</td>\n",
       "      <td>2019-04-30</td>\n",
       "      <td>52</td>\n",
       "      <td>46-60</td>\n",
       "      <td>SMS</td>\n",
       "      <td>4</td>\n",
       "      <td>0</td>\n",
       "      <td>received</td>\n",
       "      <td>0</td>\n",
       "      <td>0</td>\n",
       "    </tr>\n",
       "    <tr>\n",
       "      <th>299997</th>\n",
       "      <td>299998</td>\n",
       "      <td>2019-04-22</td>\n",
       "      <td>20</td>\n",
       "      <td>18-30</td>\n",
       "      <td>SMS</td>\n",
       "      <td>2</td>\n",
       "      <td>0</td>\n",
       "      <td>received</td>\n",
       "      <td>0</td>\n",
       "      <td>0</td>\n",
       "    </tr>\n",
       "    <tr>\n",
       "      <th>299998</th>\n",
       "      <td>299999</td>\n",
       "      <td>2019-04-04</td>\n",
       "      <td>53</td>\n",
       "      <td>46-60</td>\n",
       "      <td>SMS</td>\n",
       "      <td>2</td>\n",
       "      <td>0</td>\n",
       "      <td>received</td>\n",
       "      <td>0</td>\n",
       "      <td>0</td>\n",
       "    </tr>\n",
       "    <tr>\n",
       "      <th>299999</th>\n",
       "      <td>300000</td>\n",
       "      <td>2019-04-09</td>\n",
       "      <td>20</td>\n",
       "      <td>18-30</td>\n",
       "      <td>Email</td>\n",
       "      <td>2</td>\n",
       "      <td>0</td>\n",
       "      <td>received</td>\n",
       "      <td>0</td>\n",
       "      <td>0</td>\n",
       "    </tr>\n",
       "  </tbody>\n",
       "</table>\n",
       "<p>300000 rows × 10 columns</p>\n",
       "</div>"
      ],
      "text/plain": [
       "            id   send_date  estimated_age age_range channel  coupon  clicked  \\\n",
       "0            1  2019-04-12             59     46-60     SMS       2        0   \n",
       "1            2  2019-04-08             27     18-30   Email       2        0   \n",
       "2            3  2019-04-05             74       60+   Email       2        0   \n",
       "3            4  2019-04-21             32     31-45     SMS       2        0   \n",
       "4            5  2019-04-28             42     31-45   Email       2        0   \n",
       "...        ...         ...            ...       ...     ...     ...      ...   \n",
       "299995  299996  2019-04-26             23     18-30   Email       2        0   \n",
       "299996  299997  2019-04-30             52     46-60     SMS       4        0   \n",
       "299997  299998  2019-04-22             20     18-30     SMS       2        0   \n",
       "299998  299999  2019-04-04             53     46-60     SMS       2        0   \n",
       "299999  300000  2019-04-09             20     18-30   Email       2        0   \n",
       "\n",
       "       last_step  nb_units  order_value  \n",
       "0       received         0            0  \n",
       "1       received         0            0  \n",
       "2       received         0            0  \n",
       "3       received         0            0  \n",
       "4       received         0            0  \n",
       "...          ...       ...          ...  \n",
       "299995  received         0            0  \n",
       "299996  received         0            0  \n",
       "299997  received         0            0  \n",
       "299998  received         0            0  \n",
       "299999  received         0            0  \n",
       "\n",
       "[300000 rows x 10 columns]"
      ]
     },
     "execution_count": 4,
     "metadata": {},
     "output_type": "execute_result"
    }
   ],
   "source": [
    "df"
   ]
  },
  {
   "cell_type": "code",
   "execution_count": 5,
   "id": "9acc47ca",
   "metadata": {},
   "outputs": [],
   "source": [
    "org_value = []\n",
    "for i in range(len(df)):\n",
    "    if df.loc[i,'last_step'] == 'purchased':\n",
    "        org_value.append(df.loc[i,'coupon'] + df.loc[i,'order_value'])\n",
    "    else:\n",
    "        org_value.append(df.loc[i,'order_value'])\n",
    "\n",
    "df['org_value'] = org_value"
   ]
  },
  {
   "cell_type": "markdown",
   "id": "2bd06216",
   "metadata": {},
   "source": [
    "## Theo channel"
   ]
  },
  {
   "cell_type": "code",
   "execution_count": 6,
   "id": "d7462a40",
   "metadata": {},
   "outputs": [
    {
     "data": {
      "text/html": [
       "<div>\n",
       "<style scoped>\n",
       "    .dataframe tbody tr th:only-of-type {\n",
       "        vertical-align: middle;\n",
       "    }\n",
       "\n",
       "    .dataframe tbody tr th {\n",
       "        vertical-align: top;\n",
       "    }\n",
       "\n",
       "    .dataframe thead th {\n",
       "        text-align: right;\n",
       "    }\n",
       "</style>\n",
       "<table border=\"1\" class=\"dataframe\">\n",
       "  <thead>\n",
       "    <tr style=\"text-align: right;\">\n",
       "      <th></th>\n",
       "      <th>age_range</th>\n",
       "      <th>num_click</th>\n",
       "      <th>coupon_value</th>\n",
       "      <th>order_value</th>\n",
       "      <th>org_value</th>\n",
       "      <th>num_receive</th>\n",
       "    </tr>\n",
       "  </thead>\n",
       "  <tbody>\n",
       "    <tr>\n",
       "      <th>0</th>\n",
       "      <td>18-30</td>\n",
       "      <td>6205</td>\n",
       "      <td>315992</td>\n",
       "      <td>44128</td>\n",
       "      <td>46386</td>\n",
       "      <td>102107</td>\n",
       "    </tr>\n",
       "    <tr>\n",
       "      <th>1</th>\n",
       "      <td>31-45</td>\n",
       "      <td>7778</td>\n",
       "      <td>380998</td>\n",
       "      <td>45758</td>\n",
       "      <td>48020</td>\n",
       "      <td>122900</td>\n",
       "    </tr>\n",
       "    <tr>\n",
       "      <th>2</th>\n",
       "      <td>46-60</td>\n",
       "      <td>3265</td>\n",
       "      <td>157708</td>\n",
       "      <td>25466</td>\n",
       "      <td>26948</td>\n",
       "      <td>50893</td>\n",
       "    </tr>\n",
       "    <tr>\n",
       "      <th>3</th>\n",
       "      <td>60+</td>\n",
       "      <td>518</td>\n",
       "      <td>74636</td>\n",
       "      <td>512</td>\n",
       "      <td>540</td>\n",
       "      <td>24100</td>\n",
       "    </tr>\n",
       "  </tbody>\n",
       "</table>\n",
       "</div>"
      ],
      "text/plain": [
       "  age_range  num_click  coupon_value  order_value  org_value  num_receive\n",
       "0     18-30       6205        315992        44128      46386       102107\n",
       "1     31-45       7778        380998        45758      48020       122900\n",
       "2     46-60       3265        157708        25466      26948        50893\n",
       "3       60+        518         74636          512        540        24100"
      ]
     },
     "execution_count": 6,
     "metadata": {},
     "output_type": "execute_result"
    }
   ],
   "source": [
    "df_summ = df.groupby(['age_range']).agg({'clicked':'sum','coupon':'sum','order_value':'sum','org_value':'sum','send_date':'count'})\n",
    "df_summ.columns = ['num_click', 'coupon_value', 'order_value', 'org_value','num_receive']\n",
    "df_summ.reset_index(inplace=True)\n",
    "df_summ"
   ]
  },
  {
   "cell_type": "code",
   "execution_count": 7,
   "id": "5b96393c",
   "metadata": {},
   "outputs": [
    {
     "name": "stdout",
     "output_type": "stream",
     "text": [
      "bounced\n",
      "added to cart\n",
      "purchased\n",
      "saw review\n",
      "payment page\n"
     ]
    }
   ],
   "source": [
    "for step in df.last_step.unique():\n",
    "    if step == 'received':\n",
    "        continue\n",
    "    print(step)\n",
    "    tmp_2 = df[df['last_step']==step]\n",
    "    tmp_2 = tmp_2.groupby(['age_range']).agg({'clicked':'count'})\n",
    "    tmp_2.columns = ['num_'+step.replace(' ','_')]\n",
    "    tmp_2.reset_index(inplace=True)\n",
    "    df_summ = df_summ.merge(tmp_2, how='inner', on=['age_range'])"
   ]
  },
  {
   "cell_type": "code",
   "execution_count": 22,
   "id": "41ebc257",
   "metadata": {},
   "outputs": [],
   "source": [
    "df_summ['num_added_to_cart'] = df_summ['num_added_to_cart'] + df_summ['num_payment_page'] + df_summ['num_purchased']\n",
    "df_summ['num_payment_page'] = df_summ['num_payment_page'] + df_summ['num_purchased']\n",
    "df_summ['value/receive'] = df_summ['order_value']/df_summ['num_receive']"
   ]
  },
  {
   "cell_type": "code",
   "execution_count": 9,
   "id": "5cf5d268",
   "metadata": {},
   "outputs": [
    {
     "data": {
      "text/html": [
       "<div>\n",
       "<style scoped>\n",
       "    .dataframe tbody tr th:only-of-type {\n",
       "        vertical-align: middle;\n",
       "    }\n",
       "\n",
       "    .dataframe tbody tr th {\n",
       "        vertical-align: top;\n",
       "    }\n",
       "\n",
       "    .dataframe thead th {\n",
       "        text-align: right;\n",
       "    }\n",
       "</style>\n",
       "<table border=\"1\" class=\"dataframe\">\n",
       "  <thead>\n",
       "    <tr style=\"text-align: right;\">\n",
       "      <th></th>\n",
       "      <th>age_range</th>\n",
       "      <th>num_click</th>\n",
       "      <th>coupon_value</th>\n",
       "      <th>order_value</th>\n",
       "      <th>org_value</th>\n",
       "      <th>num_receive</th>\n",
       "      <th>num_bounced</th>\n",
       "      <th>num_added_to_cart</th>\n",
       "      <th>num_purchased</th>\n",
       "      <th>num_saw_review</th>\n",
       "      <th>num_payment_page</th>\n",
       "    </tr>\n",
       "  </thead>\n",
       "  <tbody>\n",
       "    <tr>\n",
       "      <th>0</th>\n",
       "      <td>18-30</td>\n",
       "      <td>6205</td>\n",
       "      <td>315992</td>\n",
       "      <td>44128</td>\n",
       "      <td>46386</td>\n",
       "      <td>102107</td>\n",
       "      <td>2246</td>\n",
       "      <td>2006</td>\n",
       "      <td>699</td>\n",
       "      <td>1953</td>\n",
       "      <td>1203</td>\n",
       "    </tr>\n",
       "    <tr>\n",
       "      <th>1</th>\n",
       "      <td>31-45</td>\n",
       "      <td>7778</td>\n",
       "      <td>380998</td>\n",
       "      <td>45758</td>\n",
       "      <td>48020</td>\n",
       "      <td>122900</td>\n",
       "      <td>3188</td>\n",
       "      <td>2197</td>\n",
       "      <td>743</td>\n",
       "      <td>2393</td>\n",
       "      <td>937</td>\n",
       "    </tr>\n",
       "    <tr>\n",
       "      <th>2</th>\n",
       "      <td>46-60</td>\n",
       "      <td>3265</td>\n",
       "      <td>157708</td>\n",
       "      <td>25466</td>\n",
       "      <td>26948</td>\n",
       "      <td>50893</td>\n",
       "      <td>1349</td>\n",
       "      <td>1219</td>\n",
       "      <td>412</td>\n",
       "      <td>697</td>\n",
       "      <td>555</td>\n",
       "    </tr>\n",
       "    <tr>\n",
       "      <th>3</th>\n",
       "      <td>60+</td>\n",
       "      <td>518</td>\n",
       "      <td>74636</td>\n",
       "      <td>512</td>\n",
       "      <td>540</td>\n",
       "      <td>24100</td>\n",
       "      <td>167</td>\n",
       "      <td>142</td>\n",
       "      <td>8</td>\n",
       "      <td>209</td>\n",
       "      <td>116</td>\n",
       "    </tr>\n",
       "  </tbody>\n",
       "</table>\n",
       "</div>"
      ],
      "text/plain": [
       "  age_range  num_click  coupon_value  order_value  org_value  num_receive  \\\n",
       "0     18-30       6205        315992        44128      46386       102107   \n",
       "1     31-45       7778        380998        45758      48020       122900   \n",
       "2     46-60       3265        157708        25466      26948        50893   \n",
       "3       60+        518         74636          512        540        24100   \n",
       "\n",
       "   num_bounced  num_added_to_cart  num_purchased  num_saw_review  \\\n",
       "0         2246               2006            699            1953   \n",
       "1         3188               2197            743            2393   \n",
       "2         1349               1219            412             697   \n",
       "3          167                142              8             209   \n",
       "\n",
       "   num_payment_page  \n",
       "0              1203  \n",
       "1               937  \n",
       "2               555  \n",
       "3               116  "
      ]
     },
     "execution_count": 9,
     "metadata": {},
     "output_type": "execute_result"
    }
   ],
   "source": [
    "df_summ"
   ]
  },
  {
   "cell_type": "code",
   "execution_count": 10,
   "id": "1420c64b",
   "metadata": {},
   "outputs": [
    {
     "name": "stdout",
     "output_type": "stream",
     "text": [
      "Click percentage\n"
     ]
    },
    {
     "data": {
      "text/plain": [
       "<BarContainer object of 4 artists>"
      ]
     },
     "execution_count": 10,
     "metadata": {},
     "output_type": "execute_result"
    },
    {
     "data": {
      "image/png": "[encoded data removed]",
      "text/plain": [
       "<Figure size 432x288 with 1 Axes>"
      ]
     },
     "metadata": {
      "needs_background": "light"
     },
     "output_type": "display_data"
    }
   ],
   "source": [
    "print('Click percentage')\n",
    "plt.bar(df_summ['age_range'], df_summ['num_click']/df_summ['num_receive'])"
   ]
  },
  {
   "cell_type": "code",
   "execution_count": 11,
   "id": "a563d2b9",
   "metadata": {},
   "outputs": [
    {
     "name": "stdout",
     "output_type": "stream",
     "text": [
      "Add to cart percentage\n"
     ]
    },
    {
     "data": {
      "text/plain": [
       "<BarContainer object of 4 artists>"
      ]
     },
     "execution_count": 11,
     "metadata": {},
     "output_type": "execute_result"
    },
    {
     "data": {
      "image/png": "[encoded data removed]",
      "text/plain": [
       "<Figure size 432x288 with 1 Axes>"
      ]
     },
     "metadata": {
      "needs_background": "light"
     },
     "output_type": "display_data"
    }
   ],
   "source": [
    "print('Add to cart percentage')\n",
    "plt.bar(df_summ['age_range'], df_summ['num_added_to_cart']/df_summ['num_receive'])"
   ]
  },
  {
   "cell_type": "code",
   "execution_count": 12,
   "id": "3697752b",
   "metadata": {},
   "outputs": [
    {
     "name": "stdout",
     "output_type": "stream",
     "text": [
      "Purchase percentage\n"
     ]
    },
    {
     "data": {
      "text/plain": [
       "<BarContainer object of 4 artists>"
      ]
     },
     "execution_count": 12,
     "metadata": {},
     "output_type": "execute_result"
    },
    {
     "data": {
      "image/png": "[encoded data removed]",
      "text/plain": [
       "<Figure size 432x288 with 1 Axes>"
      ]
     },
     "metadata": {
      "needs_background": "light"
     },
     "output_type": "display_data"
    }
   ],
   "source": [
    "print('Purchase percentage')\n",
    "plt.bar(df_summ['age_range'], df_summ['num_purchased']/df_summ['num_receive'])"
   ]
  },
  {
   "cell_type": "code",
   "execution_count": 13,
   "id": "6b51212f",
   "metadata": {},
   "outputs": [
    {
     "name": "stdout",
     "output_type": "stream",
     "text": [
      "From add to cart to purchase percentage\n"
     ]
    },
    {
     "data": {
      "text/plain": [
       "<BarContainer object of 4 artists>"
      ]
     },
     "execution_count": 13,
     "metadata": {},
     "output_type": "execute_result"
    },
    {
     "data": {
      "image/png": "[encoded data removed]",
      "text/plain": [
       "<Figure size 432x288 with 1 Axes>"
      ]
     },
     "metadata": {
      "needs_background": "light"
     },
     "output_type": "display_data"
    }
   ],
   "source": [
    "print('From add to cart to purchase percentage')\n",
    "plt.bar(df_summ['age_range'], df_summ['num_purchased']/df_summ['num_added_to_cart'])"
   ]
  },
  {
   "cell_type": "code",
   "execution_count": 14,
   "id": "e12b8b95",
   "metadata": {},
   "outputs": [
    {
     "name": "stdout",
     "output_type": "stream",
     "text": [
      "Coupon percentage\n"
     ]
    },
    {
     "data": {
      "text/plain": [
       "<BarContainer object of 4 artists>"
      ]
     },
     "execution_count": 14,
     "metadata": {},
     "output_type": "execute_result"
    },
    {
     "data": {
      "image/png": "[encoded data removed]",
      "text/plain": [
       "<Figure size 432x288 with 1 Axes>"
      ]
     },
     "metadata": {
      "needs_background": "light"
     },
     "output_type": "display_data"
    }
   ],
   "source": [
    "print('Coupon percentage')\n",
    "plt.bar(df_summ['age_range'], df_summ['coupon_value']/df_summ['coupon_value'].sum())"
   ]
  },
  {
   "cell_type": "code",
   "execution_count": 15,
   "id": "3213f53c",
   "metadata": {},
   "outputs": [
    {
     "name": "stdout",
     "output_type": "stream",
     "text": [
      "Order value percentage\n"
     ]
    },
    {
     "data": {
      "text/plain": [
       "<BarContainer object of 4 artists>"
      ]
     },
     "execution_count": 15,
     "metadata": {},
     "output_type": "execute_result"
    },
    {
     "data": {
      "image/png": "[encoded data removed]",
      "text/plain": [
       "<Figure size 432x288 with 1 Axes>"
      ]
     },
     "metadata": {
      "needs_background": "light"
     },
     "output_type": "display_data"
    }
   ],
   "source": [
    "print('Order value percentage')\n",
    "plt.bar(df_summ['age_range'], df_summ['order_value']/df_summ['order_value'].sum())"
   ]
  },
  {
   "cell_type": "code",
   "execution_count": 16,
   "id": "00532929",
   "metadata": {},
   "outputs": [
    {
     "name": "stdout",
     "output_type": "stream",
     "text": [
      "Org value percentage\n"
     ]
    },
    {
     "data": {
      "text/plain": [
       "<BarContainer object of 4 artists>"
      ]
     },
     "execution_count": 16,
     "metadata": {},
     "output_type": "execute_result"
    },
    {
     "data": {
      "image/png": "[encoded data removed]",
      "text/plain": [
       "<Figure size 432x288 with 1 Axes>"
      ]
     },
     "metadata": {
      "needs_background": "light"
     },
     "output_type": "display_data"
    }
   ],
   "source": [
    "print('Org value percentage')\n",
    "plt.bar(df_summ['age_range'], df_summ['org_value']/df_summ['org_value'].sum())"
   ]
  },
  {
   "cell_type": "code",
   "execution_count": 17,
   "id": "e164c906",
   "metadata": {},
   "outputs": [
    {
     "name": "stdout",
     "output_type": "stream",
     "text": [
      "Coupon value percentage\n"
     ]
    },
    {
     "data": {
      "text/plain": [
       "<BarContainer object of 4 artists>"
      ]
     },
     "execution_count": 17,
     "metadata": {},
     "output_type": "execute_result"
    },
    {
     "data": {
      "image/png": "[encoded data removed]",
      "text/plain": [
       "<Figure size 432x288 with 1 Axes>"
      ]
     },
     "metadata": {
      "needs_background": "light"
     },
     "output_type": "display_data"
    }
   ],
   "source": [
    "print('Coupon value percentage')\n",
    "plt.bar(df_summ['age_range'], (df_summ['org_value']-df_summ['order_value'])/(df_summ['org_value']-df_summ['order_value']).sum())"
   ]
  },
  {
   "cell_type": "code",
   "execution_count": 18,
   "id": "1e320073",
   "metadata": {},
   "outputs": [
    {
     "name": "stdout",
     "output_type": "stream",
     "text": [
      "Receive percentage\n"
     ]
    },
    {
     "data": {
      "text/plain": [
       "<BarContainer object of 4 artists>"
      ]
     },
     "execution_count": 18,
     "metadata": {},
     "output_type": "execute_result"
    },
    {
     "data": {
      "image/png": "[encoded data removed]",
      "text/plain": [
       "<Figure size 432x288 with 1 Axes>"
      ]
     },
     "metadata": {
      "needs_background": "light"
     },
     "output_type": "display_data"
    }
   ],
   "source": [
    "print('Receive percentage')\n",
    "plt.bar(df_summ['age_range'], df_summ['num_receive']/df_summ['num_receive'].sum())"
   ]
  },
  {
   "cell_type": "code",
   "execution_count": 23,
   "id": "067fe663",
   "metadata": {},
   "outputs": [
    {
     "name": "stdout",
     "output_type": "stream",
     "text": [
      "Order value/receive percentage\n"
     ]
    },
    {
     "data": {
      "text/plain": [
       "<BarContainer object of 4 artists>"
      ]
     },
     "execution_count": 23,
     "metadata": {},
     "output_type": "execute_result"
    },
    {
     "data": {
      "image/png": "[encoded data removed]",
      "text/plain": [
       "<Figure size 432x288 with 1 Axes>"
      ]
     },
     "metadata": {
      "needs_background": "light"
     },
     "output_type": "display_data"
    }
   ],
   "source": [
    "print('Order value/receive percentage')\n",
    "plt.bar(df_summ['age_range'], df_summ['value/receive'])"
   ]
  },
  {
   "cell_type": "markdown",
   "id": "055823fb",
   "metadata": {},
   "source": [
    "1. Về tỉ lệ nhận tin nhắn:\n",
    "<ul>\n",
    "    <li>nhóm 31-45 chiếm 40%</li> \n",
    "    <li>nhóm 18-30 chiếm 34%</li>\n",
    "    <li>nhóm 46-60 chiếm 18%</li> \n",
    "    <li>nhóm 60 chiếm 8%</li>\n",
    "</ul>\n",
    "\n",
    "\n",
    "2. Về tỉ lệ click/nhận:\n",
    "<ul>\n",
    "    <li>3 nhóm 18-30/31-45/46-60 đều xấp xỉ 6%</li>\n",
    "    <li>nhóm 60+ đạt 2.5%</li>\n",
    "</ul>\n",
    "\n",
    "\n",
    "3. Về tỉ lệ purchase/nhận:\n",
    "<ul>\n",
    "    <li>nhóm 46-60 đạt 0.8%</li>\n",
    "    <li>nhóm 18-30 đạt 0.7%</li>\n",
    "    <li>nhóm 31-45 đạt 0.6%</li>\n",
    "    <li>nhóm 60+ đạt 0.04%</li>\n",
    "</ul>\n",
    "\n",
    "\n",
    "4. Về tỉ lệ theo giá trị order value đóng góp:\n",
    "<ul>\n",
    "    <li>2 nhóm 18-30 và 31-45 tương đương nhau (khoảng 38% mỗi nhóm)</li>\n",
    "    <li>nhóm 46-60 gần bằng 2/3 (khoảng 23%)</li>\n",
    "    <li>nhóm 60+ đóng góp tỉ lệ rất nhỏ, chỉ khoảng 1%</li>\n",
    "</ul>\n",
    "\n",
    "\n",
    "5. Về order_value/mỗi tin nhắn, nhóm 46-60 đạt rate cao nhất, tiếp theo là các nhóm 18-30, 31-45 và cuối cùng là nhóm 60+."
   ]
  },
  {
   "cell_type": "code",
   "execution_count": 28,
   "id": "1d55623e",
   "metadata": {},
   "outputs": [
    {
     "data": {
      "text/plain": [
       "0    0.864348\n",
       "1    0.744638\n",
       "2    1.000766\n",
       "3    0.042490\n",
       "Name: value/receive, dtype: float64"
      ]
     },
     "execution_count": 28,
     "metadata": {},
     "output_type": "execute_result"
    }
   ],
   "source": [
    "df_summ['value/receive']/0.5"
   ]
  },
  {
   "cell_type": "code",
   "execution_count": 30,
   "id": "07e6d436",
   "metadata": {},
   "outputs": [],
   "source": [
    "x = 60/(500+350*0.745+300*0.864+200*0.042)"
   ]
  },
  {
   "cell_type": "markdown",
   "id": "3998f118",
   "metadata": {},
   "source": [
    "## Theo age_range + channel"
   ]
  },
  {
   "cell_type": "code",
   "execution_count": 36,
   "id": "05f88352",
   "metadata": {},
   "outputs": [
    {
     "data": {
      "text/html": [
       "<div>\n",
       "<style scoped>\n",
       "    .dataframe tbody tr th:only-of-type {\n",
       "        vertical-align: middle;\n",
       "    }\n",
       "\n",
       "    .dataframe tbody tr th {\n",
       "        vertical-align: top;\n",
       "    }\n",
       "\n",
       "    .dataframe thead th {\n",
       "        text-align: right;\n",
       "    }\n",
       "</style>\n",
       "<table border=\"1\" class=\"dataframe\">\n",
       "  <thead>\n",
       "    <tr style=\"text-align: right;\">\n",
       "      <th></th>\n",
       "      <th>age_range</th>\n",
       "      <th>channel</th>\n",
       "      <th>num_click</th>\n",
       "      <th>coupon_value</th>\n",
       "      <th>order_value</th>\n",
       "      <th>org_value</th>\n",
       "      <th>num_receive</th>\n",
       "    </tr>\n",
       "  </thead>\n",
       "  <tbody>\n",
       "    <tr>\n",
       "      <th>0</th>\n",
       "      <td>18-30</td>\n",
       "      <td>Email</td>\n",
       "      <td>2247</td>\n",
       "      <td>144426</td>\n",
       "      <td>15504</td>\n",
       "      <td>16388</td>\n",
       "      <td>46660</td>\n",
       "    </tr>\n",
       "    <tr>\n",
       "      <th>1</th>\n",
       "      <td>18-30</td>\n",
       "      <td>SMS</td>\n",
       "      <td>3958</td>\n",
       "      <td>171566</td>\n",
       "      <td>28624</td>\n",
       "      <td>29998</td>\n",
       "      <td>55447</td>\n",
       "    </tr>\n",
       "    <tr>\n",
       "      <th>2</th>\n",
       "      <td>31-45</td>\n",
       "      <td>Email</td>\n",
       "      <td>4271</td>\n",
       "      <td>173446</td>\n",
       "      <td>32474</td>\n",
       "      <td>34136</td>\n",
       "      <td>55880</td>\n",
       "    </tr>\n",
       "    <tr>\n",
       "      <th>3</th>\n",
       "      <td>31-45</td>\n",
       "      <td>SMS</td>\n",
       "      <td>3507</td>\n",
       "      <td>207552</td>\n",
       "      <td>13284</td>\n",
       "      <td>13884</td>\n",
       "      <td>67020</td>\n",
       "    </tr>\n",
       "    <tr>\n",
       "      <th>4</th>\n",
       "      <td>46-60</td>\n",
       "      <td>Email</td>\n",
       "      <td>995</td>\n",
       "      <td>71134</td>\n",
       "      <td>6204</td>\n",
       "      <td>6598</td>\n",
       "      <td>23001</td>\n",
       "    </tr>\n",
       "    <tr>\n",
       "      <th>5</th>\n",
       "      <td>46-60</td>\n",
       "      <td>SMS</td>\n",
       "      <td>2270</td>\n",
       "      <td>86574</td>\n",
       "      <td>19262</td>\n",
       "      <td>20350</td>\n",
       "      <td>27892</td>\n",
       "    </tr>\n",
       "    <tr>\n",
       "      <th>6</th>\n",
       "      <td>60+</td>\n",
       "      <td>Email</td>\n",
       "      <td>191</td>\n",
       "      <td>34132</td>\n",
       "      <td>142</td>\n",
       "      <td>152</td>\n",
       "      <td>10948</td>\n",
       "    </tr>\n",
       "    <tr>\n",
       "      <th>7</th>\n",
       "      <td>60+</td>\n",
       "      <td>SMS</td>\n",
       "      <td>327</td>\n",
       "      <td>40504</td>\n",
       "      <td>370</td>\n",
       "      <td>388</td>\n",
       "      <td>13152</td>\n",
       "    </tr>\n",
       "  </tbody>\n",
       "</table>\n",
       "</div>"
      ],
      "text/plain": [
       "  age_range channel  num_click  coupon_value  order_value  org_value  \\\n",
       "0     18-30   Email       2247        144426        15504      16388   \n",
       "1     18-30     SMS       3958        171566        28624      29998   \n",
       "2     31-45   Email       4271        173446        32474      34136   \n",
       "3     31-45     SMS       3507        207552        13284      13884   \n",
       "4     46-60   Email        995         71134         6204       6598   \n",
       "5     46-60     SMS       2270         86574        19262      20350   \n",
       "6       60+   Email        191         34132          142        152   \n",
       "7       60+     SMS        327         40504          370        388   \n",
       "\n",
       "   num_receive  \n",
       "0        46660  \n",
       "1        55447  \n",
       "2        55880  \n",
       "3        67020  \n",
       "4        23001  \n",
       "5        27892  \n",
       "6        10948  \n",
       "7        13152  "
      ]
     },
     "execution_count": 36,
     "metadata": {},
     "output_type": "execute_result"
    }
   ],
   "source": [
    "df_summary = df.groupby(['age_range','channel']).agg({'clicked':'sum','coupon':'sum','order_value':'sum','org_value':'sum','send_date':'count'})\n",
    "df_summary.columns = ['num_click', 'coupon_value', 'order_value', 'org_value', 'num_receive']\n",
    "df_summary.reset_index(inplace=True)\n",
    "df_summary"
   ]
  },
  {
   "cell_type": "code",
   "execution_count": 37,
   "id": "e0af267a",
   "metadata": {
    "scrolled": true
   },
   "outputs": [
    {
     "name": "stdout",
     "output_type": "stream",
     "text": [
      "bounced\n",
      "added to cart\n",
      "purchased\n",
      "saw review\n",
      "payment page\n"
     ]
    }
   ],
   "source": [
    "for step in df.last_step.unique():\n",
    "    if step == 'received':\n",
    "        continue\n",
    "    print(step)\n",
    "    tmp_2 = df[df['last_step']==step]\n",
    "    tmp_2 = tmp_2.groupby(['age_range','channel']).agg({'clicked':'count'})\n",
    "    tmp_2.columns = ['num_'+step.replace(' ','_')]\n",
    "    tmp_2.reset_index(inplace=True)\n",
    "    df_summary = df_summary.merge(tmp_2, how='inner', on=['age_range','channel'])"
   ]
  },
  {
   "cell_type": "code",
   "execution_count": 38,
   "id": "821e611a",
   "metadata": {},
   "outputs": [
    {
     "data": {
      "text/html": [
       "<div>\n",
       "<style scoped>\n",
       "    .dataframe tbody tr th:only-of-type {\n",
       "        vertical-align: middle;\n",
       "    }\n",
       "\n",
       "    .dataframe tbody tr th {\n",
       "        vertical-align: top;\n",
       "    }\n",
       "\n",
       "    .dataframe thead th {\n",
       "        text-align: right;\n",
       "    }\n",
       "</style>\n",
       "<table border=\"1\" class=\"dataframe\">\n",
       "  <thead>\n",
       "    <tr style=\"text-align: right;\">\n",
       "      <th></th>\n",
       "      <th>age_range</th>\n",
       "      <th>channel</th>\n",
       "      <th>num_click</th>\n",
       "      <th>coupon_value</th>\n",
       "      <th>order_value</th>\n",
       "      <th>org_value</th>\n",
       "      <th>num_receive</th>\n",
       "      <th>num_bounced</th>\n",
       "      <th>num_added_to_cart</th>\n",
       "      <th>num_purchased</th>\n",
       "      <th>num_saw_review</th>\n",
       "      <th>num_payment_page</th>\n",
       "    </tr>\n",
       "  </thead>\n",
       "  <tbody>\n",
       "    <tr>\n",
       "      <th>0</th>\n",
       "      <td>18-30</td>\n",
       "      <td>Email</td>\n",
       "      <td>2247</td>\n",
       "      <td>144426</td>\n",
       "      <td>15504</td>\n",
       "      <td>16388</td>\n",
       "      <td>46660</td>\n",
       "      <td>851</td>\n",
       "      <td>296</td>\n",
       "      <td>273</td>\n",
       "      <td>793</td>\n",
       "      <td>34</td>\n",
       "    </tr>\n",
       "    <tr>\n",
       "      <th>1</th>\n",
       "      <td>18-30</td>\n",
       "      <td>SMS</td>\n",
       "      <td>3958</td>\n",
       "      <td>171566</td>\n",
       "      <td>28624</td>\n",
       "      <td>29998</td>\n",
       "      <td>55447</td>\n",
       "      <td>1395</td>\n",
       "      <td>507</td>\n",
       "      <td>426</td>\n",
       "      <td>1160</td>\n",
       "      <td>470</td>\n",
       "    </tr>\n",
       "    <tr>\n",
       "      <th>2</th>\n",
       "      <td>31-45</td>\n",
       "      <td>Email</td>\n",
       "      <td>4271</td>\n",
       "      <td>173446</td>\n",
       "      <td>32474</td>\n",
       "      <td>34136</td>\n",
       "      <td>55880</td>\n",
       "      <td>1508</td>\n",
       "      <td>385</td>\n",
       "      <td>558</td>\n",
       "      <td>1760</td>\n",
       "      <td>60</td>\n",
       "    </tr>\n",
       "    <tr>\n",
       "      <th>3</th>\n",
       "      <td>31-45</td>\n",
       "      <td>SMS</td>\n",
       "      <td>3507</td>\n",
       "      <td>207552</td>\n",
       "      <td>13284</td>\n",
       "      <td>13884</td>\n",
       "      <td>67020</td>\n",
       "      <td>1680</td>\n",
       "      <td>875</td>\n",
       "      <td>185</td>\n",
       "      <td>633</td>\n",
       "      <td>134</td>\n",
       "    </tr>\n",
       "    <tr>\n",
       "      <th>4</th>\n",
       "      <td>46-60</td>\n",
       "      <td>Email</td>\n",
       "      <td>995</td>\n",
       "      <td>71134</td>\n",
       "      <td>6204</td>\n",
       "      <td>6598</td>\n",
       "      <td>23001</td>\n",
       "      <td>388</td>\n",
       "      <td>194</td>\n",
       "      <td>115</td>\n",
       "      <td>229</td>\n",
       "      <td>69</td>\n",
       "    </tr>\n",
       "    <tr>\n",
       "      <th>5</th>\n",
       "      <td>46-60</td>\n",
       "      <td>SMS</td>\n",
       "      <td>2270</td>\n",
       "      <td>86574</td>\n",
       "      <td>19262</td>\n",
       "      <td>20350</td>\n",
       "      <td>27892</td>\n",
       "      <td>961</td>\n",
       "      <td>470</td>\n",
       "      <td>297</td>\n",
       "      <td>468</td>\n",
       "      <td>74</td>\n",
       "    </tr>\n",
       "    <tr>\n",
       "      <th>6</th>\n",
       "      <td>60+</td>\n",
       "      <td>Email</td>\n",
       "      <td>191</td>\n",
       "      <td>34132</td>\n",
       "      <td>142</td>\n",
       "      <td>152</td>\n",
       "      <td>10948</td>\n",
       "      <td>60</td>\n",
       "      <td>14</td>\n",
       "      <td>2</td>\n",
       "      <td>83</td>\n",
       "      <td>32</td>\n",
       "    </tr>\n",
       "    <tr>\n",
       "      <th>7</th>\n",
       "      <td>60+</td>\n",
       "      <td>SMS</td>\n",
       "      <td>327</td>\n",
       "      <td>40504</td>\n",
       "      <td>370</td>\n",
       "      <td>388</td>\n",
       "      <td>13152</td>\n",
       "      <td>107</td>\n",
       "      <td>12</td>\n",
       "      <td>6</td>\n",
       "      <td>126</td>\n",
       "      <td>76</td>\n",
       "    </tr>\n",
       "  </tbody>\n",
       "</table>\n",
       "</div>"
      ],
      "text/plain": [
       "  age_range channel  num_click  coupon_value  order_value  org_value  \\\n",
       "0     18-30   Email       2247        144426        15504      16388   \n",
       "1     18-30     SMS       3958        171566        28624      29998   \n",
       "2     31-45   Email       4271        173446        32474      34136   \n",
       "3     31-45     SMS       3507        207552        13284      13884   \n",
       "4     46-60   Email        995         71134         6204       6598   \n",
       "5     46-60     SMS       2270         86574        19262      20350   \n",
       "6       60+   Email        191         34132          142        152   \n",
       "7       60+     SMS        327         40504          370        388   \n",
       "\n",
       "   num_receive  num_bounced  num_added_to_cart  num_purchased  num_saw_review  \\\n",
       "0        46660          851                296            273             793   \n",
       "1        55447         1395                507            426            1160   \n",
       "2        55880         1508                385            558            1760   \n",
       "3        67020         1680                875            185             633   \n",
       "4        23001          388                194            115             229   \n",
       "5        27892          961                470            297             468   \n",
       "6        10948           60                 14              2              83   \n",
       "7        13152          107                 12              6             126   \n",
       "\n",
       "   num_payment_page  \n",
       "0                34  \n",
       "1               470  \n",
       "2                60  \n",
       "3               134  \n",
       "4                69  \n",
       "5                74  \n",
       "6                32  \n",
       "7                76  "
      ]
     },
     "execution_count": 38,
     "metadata": {},
     "output_type": "execute_result"
    }
   ],
   "source": [
    "df_summary"
   ]
  },
  {
   "cell_type": "code",
   "execution_count": 39,
   "id": "59f23a4c",
   "metadata": {},
   "outputs": [],
   "source": [
    "df_summary['num_added_to_cart'] = df_summary['num_added_to_cart'] + df_summary['num_payment_page'] + df_summary['num_purchased']\n",
    "df_summary['num_payment_page'] = df_summary['num_payment_page'] + df_summary['num_purchased']\n",
    "df_summary['value/receive'] = df_summary['order_value']/df_summary['num_receive']"
   ]
  },
  {
   "cell_type": "code",
   "execution_count": 40,
   "id": "2ff7eb53",
   "metadata": {
    "scrolled": true
   },
   "outputs": [
    {
     "data": {
      "text/html": [
       "<div>\n",
       "<style scoped>\n",
       "    .dataframe tbody tr th:only-of-type {\n",
       "        vertical-align: middle;\n",
       "    }\n",
       "\n",
       "    .dataframe tbody tr th {\n",
       "        vertical-align: top;\n",
       "    }\n",
       "\n",
       "    .dataframe thead th {\n",
       "        text-align: right;\n",
       "    }\n",
       "</style>\n",
       "<table border=\"1\" class=\"dataframe\">\n",
       "  <thead>\n",
       "    <tr style=\"text-align: right;\">\n",
       "      <th></th>\n",
       "      <th>age_range</th>\n",
       "      <th>channel</th>\n",
       "      <th>num_click</th>\n",
       "      <th>coupon_value</th>\n",
       "      <th>order_value</th>\n",
       "      <th>org_value</th>\n",
       "      <th>num_receive</th>\n",
       "      <th>num_bounced</th>\n",
       "      <th>num_added_to_cart</th>\n",
       "      <th>num_purchased</th>\n",
       "      <th>num_saw_review</th>\n",
       "      <th>num_payment_page</th>\n",
       "      <th>value/receive</th>\n",
       "    </tr>\n",
       "  </thead>\n",
       "  <tbody>\n",
       "    <tr>\n",
       "      <th>0</th>\n",
       "      <td>18-30</td>\n",
       "      <td>Email</td>\n",
       "      <td>2247</td>\n",
       "      <td>144426</td>\n",
       "      <td>15504</td>\n",
       "      <td>16388</td>\n",
       "      <td>46660</td>\n",
       "      <td>851</td>\n",
       "      <td>603</td>\n",
       "      <td>273</td>\n",
       "      <td>793</td>\n",
       "      <td>307</td>\n",
       "      <td>0.332276</td>\n",
       "    </tr>\n",
       "    <tr>\n",
       "      <th>1</th>\n",
       "      <td>18-30</td>\n",
       "      <td>SMS</td>\n",
       "      <td>3958</td>\n",
       "      <td>171566</td>\n",
       "      <td>28624</td>\n",
       "      <td>29998</td>\n",
       "      <td>55447</td>\n",
       "      <td>1395</td>\n",
       "      <td>1403</td>\n",
       "      <td>426</td>\n",
       "      <td>1160</td>\n",
       "      <td>896</td>\n",
       "      <td>0.516241</td>\n",
       "    </tr>\n",
       "    <tr>\n",
       "      <th>2</th>\n",
       "      <td>31-45</td>\n",
       "      <td>Email</td>\n",
       "      <td>4271</td>\n",
       "      <td>173446</td>\n",
       "      <td>32474</td>\n",
       "      <td>34136</td>\n",
       "      <td>55880</td>\n",
       "      <td>1508</td>\n",
       "      <td>1003</td>\n",
       "      <td>558</td>\n",
       "      <td>1760</td>\n",
       "      <td>618</td>\n",
       "      <td>0.581138</td>\n",
       "    </tr>\n",
       "    <tr>\n",
       "      <th>3</th>\n",
       "      <td>31-45</td>\n",
       "      <td>SMS</td>\n",
       "      <td>3507</td>\n",
       "      <td>207552</td>\n",
       "      <td>13284</td>\n",
       "      <td>13884</td>\n",
       "      <td>67020</td>\n",
       "      <td>1680</td>\n",
       "      <td>1194</td>\n",
       "      <td>185</td>\n",
       "      <td>633</td>\n",
       "      <td>319</td>\n",
       "      <td>0.198209</td>\n",
       "    </tr>\n",
       "    <tr>\n",
       "      <th>4</th>\n",
       "      <td>46-60</td>\n",
       "      <td>Email</td>\n",
       "      <td>995</td>\n",
       "      <td>71134</td>\n",
       "      <td>6204</td>\n",
       "      <td>6598</td>\n",
       "      <td>23001</td>\n",
       "      <td>388</td>\n",
       "      <td>378</td>\n",
       "      <td>115</td>\n",
       "      <td>229</td>\n",
       "      <td>184</td>\n",
       "      <td>0.269727</td>\n",
       "    </tr>\n",
       "    <tr>\n",
       "      <th>5</th>\n",
       "      <td>46-60</td>\n",
       "      <td>SMS</td>\n",
       "      <td>2270</td>\n",
       "      <td>86574</td>\n",
       "      <td>19262</td>\n",
       "      <td>20350</td>\n",
       "      <td>27892</td>\n",
       "      <td>961</td>\n",
       "      <td>841</td>\n",
       "      <td>297</td>\n",
       "      <td>468</td>\n",
       "      <td>371</td>\n",
       "      <td>0.690592</td>\n",
       "    </tr>\n",
       "    <tr>\n",
       "      <th>6</th>\n",
       "      <td>60+</td>\n",
       "      <td>Email</td>\n",
       "      <td>191</td>\n",
       "      <td>34132</td>\n",
       "      <td>142</td>\n",
       "      <td>152</td>\n",
       "      <td>10948</td>\n",
       "      <td>60</td>\n",
       "      <td>48</td>\n",
       "      <td>2</td>\n",
       "      <td>83</td>\n",
       "      <td>34</td>\n",
       "      <td>0.012970</td>\n",
       "    </tr>\n",
       "    <tr>\n",
       "      <th>7</th>\n",
       "      <td>60+</td>\n",
       "      <td>SMS</td>\n",
       "      <td>327</td>\n",
       "      <td>40504</td>\n",
       "      <td>370</td>\n",
       "      <td>388</td>\n",
       "      <td>13152</td>\n",
       "      <td>107</td>\n",
       "      <td>94</td>\n",
       "      <td>6</td>\n",
       "      <td>126</td>\n",
       "      <td>82</td>\n",
       "      <td>0.028133</td>\n",
       "    </tr>\n",
       "  </tbody>\n",
       "</table>\n",
       "</div>"
      ],
      "text/plain": [
       "  age_range channel  num_click  coupon_value  order_value  org_value  \\\n",
       "0     18-30   Email       2247        144426        15504      16388   \n",
       "1     18-30     SMS       3958        171566        28624      29998   \n",
       "2     31-45   Email       4271        173446        32474      34136   \n",
       "3     31-45     SMS       3507        207552        13284      13884   \n",
       "4     46-60   Email        995         71134         6204       6598   \n",
       "5     46-60     SMS       2270         86574        19262      20350   \n",
       "6       60+   Email        191         34132          142        152   \n",
       "7       60+     SMS        327         40504          370        388   \n",
       "\n",
       "   num_receive  num_bounced  num_added_to_cart  num_purchased  num_saw_review  \\\n",
       "0        46660          851                603            273             793   \n",
       "1        55447         1395               1403            426            1160   \n",
       "2        55880         1508               1003            558            1760   \n",
       "3        67020         1680               1194            185             633   \n",
       "4        23001          388                378            115             229   \n",
       "5        27892          961                841            297             468   \n",
       "6        10948           60                 48              2              83   \n",
       "7        13152          107                 94              6             126   \n",
       "\n",
       "   num_payment_page  value/receive  \n",
       "0               307       0.332276  \n",
       "1               896       0.516241  \n",
       "2               618       0.581138  \n",
       "3               319       0.198209  \n",
       "4               184       0.269727  \n",
       "5               371       0.690592  \n",
       "6                34       0.012970  \n",
       "7                82       0.028133  "
      ]
     },
     "execution_count": 40,
     "metadata": {},
     "output_type": "execute_result"
    }
   ],
   "source": [
    "df_summary"
   ]
  },
  {
   "cell_type": "code",
   "execution_count": 42,
   "id": "a32118db",
   "metadata": {},
   "outputs": [
    {
     "name": "stdout",
     "output_type": "stream",
     "text": [
      "Click percentage of 18-30\n"
     ]
    },
    {
     "data": {
      "image/png": "[encoded data removed]",
      "text/plain": [
       "<Figure size 432x288 with 1 Axes>"
      ]
     },
     "metadata": {
      "needs_background": "light"
     },
     "output_type": "display_data"
    },
    {
     "name": "stdout",
     "output_type": "stream",
     "text": [
      "---------------------------------------------------\n",
      "Click percentage of 31-45\n"
     ]
    },
    {
     "data": {
      "image/png": "[encoded data removed]",
      "text/plain": [
       "<Figure size 432x288 with 1 Axes>"
      ]
     },
     "metadata": {
      "needs_background": "light"
     },
     "output_type": "display_data"
    },
    {
     "name": "stdout",
     "output_type": "stream",
     "text": [
      "---------------------------------------------------\n",
      "Click percentage of 46-60\n"
     ]
    },
    {
     "data": {
      "image/png": "[encoded data removed]",
      "text/plain": [
       "<Figure size 432x288 with 1 Axes>"
      ]
     },
     "metadata": {
      "needs_background": "light"
     },
     "output_type": "display_data"
    },
    {
     "name": "stdout",
     "output_type": "stream",
     "text": [
      "---------------------------------------------------\n",
      "Click percentage of 60+\n"
     ]
    },
    {
     "data": {
      "image/png": "[encoded data removed]",
      "text/plain": [
       "<Figure size 432x288 with 1 Axes>"
      ]
     },
     "metadata": {
      "needs_background": "light"
     },
     "output_type": "display_data"
    },
    {
     "name": "stdout",
     "output_type": "stream",
     "text": [
      "---------------------------------------------------\n"
     ]
    }
   ],
   "source": [
    "for age in df_summary.age_range.unique():\n",
    "    tmp = df_summary[df_summary['age_range']==age]\n",
    "    print(f'Click percentage of {age}')\n",
    "    plt.bar(tmp['channel'], tmp['num_click']/tmp['num_receive'])\n",
    "    plt.show()\n",
    "    print('---------------------------------------------------')"
   ]
  },
  {
   "cell_type": "code",
   "execution_count": 56,
   "id": "f92dc1c2",
   "metadata": {},
   "outputs": [
    {
     "name": "stdout",
     "output_type": "stream",
     "text": [
      "Receive percentage of 18-30\n"
     ]
    },
    {
     "data": {
      "image/png": "[encoded data removed]",
      "text/plain": [
       "<Figure size 432x288 with 1 Axes>"
      ]
     },
     "metadata": {
      "needs_background": "light"
     },
     "output_type": "display_data"
    },
    {
     "name": "stdout",
     "output_type": "stream",
     "text": [
      "---------------------------------------------------\n",
      "Receive percentage of 31-45\n"
     ]
    },
    {
     "data": {
      "image/png": "[encoded data removed]",
      "text/plain": [
       "<Figure size 432x288 with 1 Axes>"
      ]
     },
     "metadata": {
      "needs_background": "light"
     },
     "output_type": "display_data"
    },
    {
     "name": "stdout",
     "output_type": "stream",
     "text": [
      "---------------------------------------------------\n",
      "Receive percentage of 46-60\n"
     ]
    },
    {
     "data": {
      "image/png": "[encoded data removed]",
      "text/plain": [
       "<Figure size 432x288 with 1 Axes>"
      ]
     },
     "metadata": {
      "needs_background": "light"
     },
     "output_type": "display_data"
    },
    {
     "name": "stdout",
     "output_type": "stream",
     "text": [
      "---------------------------------------------------\n",
      "Receive percentage of 60+\n"
     ]
    },
    {
     "data": {
      "image/png": "[encoded data removed]",
      "text/plain": [
       "<Figure size 432x288 with 1 Axes>"
      ]
     },
     "metadata": {
      "needs_background": "light"
     },
     "output_type": "display_data"
    },
    {
     "name": "stdout",
     "output_type": "stream",
     "text": [
      "---------------------------------------------------\n"
     ]
    }
   ],
   "source": [
    "for age in df_summary.age_range.unique():\n",
    "    tmp = df_summary[df_summary['age_range']==age]\n",
    "    print(f'Receive percentage of {age}')\n",
    "    plt.bar(tmp['channel'], tmp['num_receive']/tmp['num_receive'].sum())\n",
    "    plt.show()\n",
    "    print('---------------------------------------------------')"
   ]
  },
  {
   "cell_type": "code",
   "execution_count": 57,
   "id": "07d96f21",
   "metadata": {},
   "outputs": [
    {
     "name": "stdout",
     "output_type": "stream",
     "text": [
      "value/receive of 18-30\n"
     ]
    },
    {
     "data": {
      "image/png": "[encoded data removed]",
      "text/plain": [
       "<Figure size 432x288 with 1 Axes>"
      ]
     },
     "metadata": {
      "needs_background": "light"
     },
     "output_type": "display_data"
    },
    {
     "name": "stdout",
     "output_type": "stream",
     "text": [
      "---------------------------------------------------\n",
      "value/receive of 31-45\n"
     ]
    },
    {
     "data": {
      "image/png": "[encoded data removed]",
      "text/plain": [
       "<Figure size 432x288 with 1 Axes>"
      ]
     },
     "metadata": {
      "needs_background": "light"
     },
     "output_type": "display_data"
    },
    {
     "name": "stdout",
     "output_type": "stream",
     "text": [
      "---------------------------------------------------\n",
      "value/receive of 46-60\n"
     ]
    },
    {
     "data": {
      "image/png": "[encoded data removed]",
      "text/plain": [
       "<Figure size 432x288 with 1 Axes>"
      ]
     },
     "metadata": {
      "needs_background": "light"
     },
     "output_type": "display_data"
    },
    {
     "name": "stdout",
     "output_type": "stream",
     "text": [
      "---------------------------------------------------\n",
      "value/receive of 60+\n"
     ]
    },
    {
     "data": {
      "image/png": "[encoded data removed]",
      "text/plain": [
       "<Figure size 432x288 with 1 Axes>"
      ]
     },
     "metadata": {
      "needs_background": "light"
     },
     "output_type": "display_data"
    },
    {
     "name": "stdout",
     "output_type": "stream",
     "text": [
      "---------------------------------------------------\n"
     ]
    }
   ],
   "source": [
    "for age in df_summary.age_range.unique():\n",
    "    tmp = df_summary[df_summary['age_range']==age]\n",
    "    print(f'value/receive of {age}')\n",
    "    plt.bar(tmp['channel'], tmp['value/receive'])\n",
    "    plt.show()\n",
    "    print('---------------------------------------------------')"
   ]
  },
  {
   "cell_type": "markdown",
   "id": "af691f39",
   "metadata": {},
   "source": [
    "1. Về tỉ lệ nhận tin nhắn: các nhóm đều có tỉ lệ Email/SMS là 46/54\n",
    "    \n",
    "    \n",
    "2. Về tỉ lệ theo giá trị order_value/receive đóng góp:\n",
    "<ul>\n",
    "    <li>nhóm 18-30: Email bằng 2/3 SMS</li>\n",
    "    <li>nhóm 31-45: Email gấp 3 lần SMS</li>\n",
    "    <li>nhóm 46-60: Email bằng 0.4 lần SMS</li>\n",
    "    <li>nhóm 60+: Email bằng 0.5 lần SMS</li>\n",
    "</ul>\n",
    "\n"
   ]
  },
  {
   "cell_type": "markdown",
   "id": "95acc56d",
   "metadata": {},
   "source": [
    "### Nhận xét\n",
    "\n",
    "Dựa vào tỉ lệ giá trị order value đóng góp, cùng với giá của mỗi Email (0.075 USD) và SMS (0.05 USD), ta sẽ phân chia phần tiền đầu tư mỗi channel với mỗi nhóm là:\n",
    "<ul>\n",
    "    <li><b>nhóm 18-30</b>: gửi SMS cho các khách hàng, số tiền cho nhóm này là 15,000 USD</li>\n",
    "    <li><b>nhóm 31-45</b>: gửi Email cho các khách hàng, số tiền cho nhóm này là 20,000 USD</li>\n",
    "    <li><b>nhóm 46-60</b>: gửi SMS cho các khách hàng, số tiền cho nhóm này là 25,000 USD</li>\n",
    "    <li><b>nhóm 60+</b>: có thể không cần gửi, do đóng góp value của nhóm này quá nhỏ so với các nhóm còn lại</li>\n",
    "</ul>\n"
   ]
  },
  {
   "cell_type": "markdown",
   "id": "6f05adea",
   "metadata": {},
   "source": [
    "## Như vậy, ta sử dụng 20,000 USD cho Email và 40,000 USD cho SMS"
   ]
  }
 ],
 "metadata": {
  "kernelspec": {
   "display_name": "Python 3 (ipykernel)",
   "language": "python",
   "name": "python3"
  },
  "language_info": {
   "codemirror_mode": {
    "name": "ipython",
    "version": 3
   },
   "file_extension": ".py",
   "mimetype": "text/x-python",
   "name": "python",
   "nbconvert_exporter": "python",
   "pygments_lexer": "ipython3",
   "version": "3.8.8"
  }
 },
 "nbformat": 4,
 "nbformat_minor": 5
}
